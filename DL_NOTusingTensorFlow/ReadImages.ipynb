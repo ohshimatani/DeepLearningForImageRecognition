{
 "cells": [
  {
   "cell_type": "code",
   "execution_count": 1,
   "metadata": {},
   "outputs": [],
   "source": [
    "'''1_ReadImage\n",
    "#画像データをnumpy配列にして読み込む#\n",
    "\n",
    "_convert_numpy:\n",
    "    指定された画像(xxx.jpg)をnumpy配列に変換\n",
    "\n",
    "_make_dataset:\n",
    "    label0とlabel1を結合(0, 1の順に)\n",
    "\n",
    "_make_labeldata:\n",
    "    ラベルを作る\n",
    "\n",
    "''';"
   ]
  },
  {
   "cell_type": "code",
   "execution_count": 2,
   "metadata": {},
   "outputs": [],
   "source": [
    "# coding: utf-8\n",
    "import sys, os\n",
    "sys.path.append(os.pardir)  # 親ディレクトリのファイルをインポートするための設定\n",
    "import numpy as np\n",
    "import glob\n",
    "import matplotlib.pyplot as plt\n",
    "#import cv2\n",
    "from PIL import Image\n",
    "from ConvertPNG2JPG import *"
   ]
  },
  {
   "cell_type": "code",
   "execution_count": 3,
   "metadata": {},
   "outputs": [],
   "source": [
    "#それぞれのファイルのパスを所得\n",
    "train_path_0 = os.getcwd() + '\\\\' + '_data' + '\\\\' + 'train_images' + '\\\\' + 'not_kumamon'\n",
    "train_path_1 = os.getcwd() + '\\\\' + '_data' + '\\\\' + 'train_images' + '\\\\' + 'kumamon'\n",
    "test_path_0 = os.getcwd() + '\\\\' + '_data' + '\\\\' + 'test_images' + '\\\\' + 'not_kumamon'\n",
    "test_path_1 = os.getcwd() + '\\\\' + '_data' + '\\\\' + 'test_images' + '\\\\' + 'kumamon'\n",
    "\n",
    "path_list = [train_path_0, train_path_1, test_path_0, test_path_1]"
   ]
  },
  {
   "cell_type": "code",
   "execution_count": 4,
   "metadata": {},
   "outputs": [],
   "source": [
    "def _convert_numpy(file_path, flat, color):\n",
    "    if color:\n",
    "        files = glob.glob(file_path + './*.jpg')\n",
    "        array = np.array([])\n",
    "        i = 0\n",
    "        for file in files:\n",
    "            if flat:\n",
    "                img = np.array(Image.open(file)).flatten()\n",
    "            else:\n",
    "                img = np.array(Image.open(file))\n",
    "\n",
    "            if i == 0:\n",
    "                array = np.array([img])\n",
    "            else:\n",
    "                array = np.append(array, [img], axis=0)\n",
    "            i += 1\n",
    "        return array\n",
    "    \n",
    "    else:\n",
    "        files = glob.glob(file_path + './*.jpg')\n",
    "        array = np.array([])\n",
    "        i = 0\n",
    "        for file in files:\n",
    "            if flat:\n",
    "                img = np.array(Image.open(file).convert('L')).flatten()\n",
    "            else:\n",
    "                img = np.array(Image.open(file).convert('L'))\n",
    "\n",
    "            if i == 0:\n",
    "                array = np.array([img])\n",
    "            else:\n",
    "                array = np.append(array, [img], axis=0)\n",
    "            i += 1\n",
    "        return array"
   ]
  },
  {
   "cell_type": "code",
   "execution_count": 5,
   "metadata": {},
   "outputs": [],
   "source": [
    "def _make_imagedata(file_path_0, file_path_1, flat=True, color=True):\n",
    "    return np.append(_convert_numpy(file_path_0, flat, color), _convert_numpy(file_path_1, flat, color), axis=0)"
   ]
  },
  {
   "cell_type": "code",
   "execution_count": 6,
   "metadata": {},
   "outputs": [],
   "source": [
    "def _make_labeldata(file_path_0, file_path_1):\n",
    "    size_0 = len(glob.glob(file_path_0 + './*.jpg'))\n",
    "    size_1 = len(glob.glob(file_path_1 + './*.jpg'))\n",
    "    return np.append(np.zeros(size_0), np.ones(size_1))"
   ]
  },
  {
   "cell_type": "code",
   "execution_count": 7,
   "metadata": {},
   "outputs": [],
   "source": [
    "def read_image(normalize=True, flat=True, color=True):\n",
    "    dataset = {}\n",
    "    dataset['train_image'] = _make_imagedata(train_path_0, train_path_1, flat)\n",
    "    dataset['train_label'] = _make_labeldata(train_path_0, train_path_1)\n",
    "    dataset['test_image'] = _make_imagedata(test_path_0, test_path_1, flat)\n",
    "    dataset['test_label'] = _make_labeldata(test_path_0, test_path_1)\n",
    "    \n",
    "    if normalize:\n",
    "        for key in ('train_image', 'test_image'):\n",
    "            dataset[key] = dataset[key].astype(np.float32)\n",
    "            dataset[key] /= 255.0\n",
    "            \n",
    "    return (dataset['train_image'], dataset['train_label']), (dataset['test_image'], dataset['test_label'])"
   ]
  },
  {
   "cell_type": "code",
   "execution_count": 8,
   "metadata": {},
   "outputs": [],
   "source": [
    "if __name__ == '__main__':\n",
    "    convertPNG2JPG(path_list)\n",
    "    (x_train, t_train), (x_test, t_test) = read_image()"
   ]
  },
  {
   "cell_type": "code",
   "execution_count": 9,
   "metadata": {},
   "outputs": [
    {
     "name": "stdout",
     "output_type": "stream",
     "text": [
      "(1123, 196608) (1123,) 126.0\n",
      "(740, 196608) (740,) 114.0\n"
     ]
    }
   ],
   "source": [
    "if __name__ == '__main__':\n",
    "    print(np.shape(x_train), np.shape(t_train), np.sum(t_train))\n",
    "    print(np.shape(x_test), np.shape(t_test), np.sum(t_test))"
   ]
  },
  {
   "cell_type": "code",
   "execution_count": null,
   "metadata": {},
   "outputs": [],
   "source": []
  }
 ],
 "metadata": {
  "kernelspec": {
   "display_name": "Python 3",
   "language": "python",
   "name": "python3"
  },
  "language_info": {
   "codemirror_mode": {
    "name": "ipython",
    "version": 3
   },
   "file_extension": ".py",
   "mimetype": "text/x-python",
   "name": "python",
   "nbconvert_exporter": "python",
   "pygments_lexer": "ipython3",
   "version": "3.6.7"
  },
  "varInspector": {
   "cols": {
    "lenName": 16,
    "lenType": 16,
    "lenVar": 40
   },
   "kernels_config": {
    "python": {
     "delete_cmd_postfix": "",
     "delete_cmd_prefix": "del ",
     "library": "var_list.py",
     "varRefreshCmd": "print(var_dic_list())"
    },
    "r": {
     "delete_cmd_postfix": ") ",
     "delete_cmd_prefix": "rm(",
     "library": "var_list.r",
     "varRefreshCmd": "cat(var_dic_list()) "
    }
   },
   "types_to_exclude": [
    "module",
    "function",
    "builtin_function_or_method",
    "instance",
    "_Feature"
   ],
   "window_display": false
  }
 },
 "nbformat": 4,
 "nbformat_minor": 2
}
