{
 "cells": [
  {
   "cell_type": "code",
   "execution_count": 1,
   "metadata": {},
   "outputs": [],
   "source": [
    "import numpy as np\n",
    "from collections import OrderedDict\n",
    "from ReadImages import *\n",
    "from Layers import *"
   ]
  },
  {
   "cell_type": "code",
   "execution_count": 4,
   "metadata": {},
   "outputs": [],
   "source": [
    "class MultiLayerNet:\n",
    "    def __init__(self, input_size, hidden_layer_num, hidden_size, output_size, activation='ReLU'):\n",
    "        self.input_size = input_size\n",
    "        self.hidden_layer_num = hidden_layer_num\n",
    "        self.hidden_size = hidden_size\n",
    "        self.output_size = output_size\n",
    "        \n",
    "        act = {'ReLU':ReLU, 'Sigmoid':Sigmoid}\n",
    "        self.activation = act[activation]\n",
    "        self.params = {}\n",
    "        \n",
    "        self.__init_weight(self.hidden_layer_num)\n",
    "        self.layers = OrderedDict\n",
    "        for i in range(1, self.hidden_size):\n",
    "            self.layers['Affine_' + str(i)] = Affine(self.params['W' + str(i)], self.params['b' + str(i)])\n",
    "            self.layers[str(self.activation) + '_' + str(i)] = activation()\n",
    "        \n",
    "        self.last_layer = SoftmaxWithLoss()\n",
    "        #self.loss_layer = Loss(classification=True, regression=False)\n",
    "    \n",
    "    def __init_weight(self, n):\n",
    "        if self.activation == ReLU:\n",
    "            sigma = sqrt(2/n)\n",
    "        elif self.activation == Sigmoid:\n",
    "            sigma = sqrt(1/n)\n",
    "            \n",
    "        self.params['W1'] = self.input_size * np.random.randn(self.input_size, n)\n",
    "        self.params['b1'] = np.zeros(1)\n",
    "        for i in range(2, self.hidden_size):\n",
    "            self.params['W' + str(i)] = sigma * np.random.randn(n, n)\n",
    "            self.params['b' + str(i)] = np.zeros(n)\n",
    "    \n",
    "    def predict(self, x):\n",
    "        for layer in self.layers.value():\n",
    "            x = layer.forward(x)\n",
    "            \n",
    "    def loss(self, x, t):\n",
    "        y = self.predict(x)\n",
    "        return self.last_layer.forward(y, t)\n",
    "    \n",
    "    def accuracy(self, x, t):\n",
    "        y = self.predict(x)\n",
    "        y = np.argmax(y, axis=1)\n",
    "        t = np.argmax(t, axis=1)\n",
    "        \n",
    "        accuracy = np.sum(y == t) / float(x.shape[0])\n",
    "        return accuracy\n",
    "    \n",
    "    def gradient(self, x, t):\n",
    "        y = self.loss(x, t)\n",
    "        \n",
    "        L = 1\n",
    "        L = self.last_layer.backward(L)\n",
    "        \n",
    "        layers = list(self.layers.values())\n",
    "        layers.reverse()\n",
    "        \n",
    "        for layer in layers:\n",
    "            L = layer.backward(L)\n",
    "        \n",
    "        grads = {}\n",
    "        for idx in range(1, self.hidden_layer_size+2):\n",
    "            grads['W' + str(idx)] = self.layers['Affine_' + str(idx)].dW * self.layers['Affine_' + str(idx)].W\n",
    "            grads['b' + str(idx)] = self.layers['Affine_' + str(idx)].db\n",
    "\n",
    "        return grads"
   ]
  },
  {
   "cell_type": "code",
   "execution_count": null,
   "metadata": {},
   "outputs": [],
   "source": []
  }
 ],
 "metadata": {
  "kernelspec": {
   "display_name": "Python 3",
   "language": "python",
   "name": "python3"
  },
  "language_info": {
   "codemirror_mode": {
    "name": "ipython",
    "version": 3
   },
   "file_extension": ".py",
   "mimetype": "text/x-python",
   "name": "python",
   "nbconvert_exporter": "python",
   "pygments_lexer": "ipython3",
   "version": "3.7.0"
  }
 },
 "nbformat": 4,
 "nbformat_minor": 2
}
