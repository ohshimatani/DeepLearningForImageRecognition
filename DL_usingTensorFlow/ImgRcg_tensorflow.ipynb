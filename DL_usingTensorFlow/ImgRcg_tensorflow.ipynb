{
 "cells": [
  {
   "cell_type": "code",
   "execution_count": 1,
   "metadata": {},
   "outputs": [],
   "source": [
    "import numpy as np\n",
    "import tensorflow as tf\n",
    "from tensorflow import keras\n",
    "import matplotlib.pyplot as plt\n",
    "from ReadImages import *"
   ]
  },
  {
   "cell_type": "code",
   "execution_count": 2,
   "metadata": {},
   "outputs": [],
   "source": [
    "convertPNG2JPG(path_list)\n",
    "(x_train, t_train), (x_test, t_test) = read_image()"
   ]
  },
  {
   "cell_type": "code",
   "execution_count": 3,
   "metadata": {},
   "outputs": [
    {
     "name": "stdout",
     "output_type": "stream",
     "text": [
      "(920, 196608) (920,) 113.0\n",
      "(475, 196608) (475,) 36.0\n"
     ]
    }
   ],
   "source": [
    "if __name__ == '__main__':\n",
    "    print(np.shape(x_train), np.shape(t_train), np.sum(t_train))\n",
    "    print(np.shape(x_test), np.shape(t_test), np.sum(t_test))"
   ]
  },
  {
   "cell_type": "code",
   "execution_count": 4,
   "metadata": {},
   "outputs": [],
   "source": [
    "model = keras.Sequential([\n",
    "    # keras.layers.Flatten(input_shape=(256, 256, 3)),\n",
    "    keras.layers.Dense(128, activation=tf.nn.relu),\n",
    "    keras.layers.Dense(128, activation=tf.nn.relu),\n",
    "    keras.layers.Dense(2, activation=tf.nn.sigmoid)\n",
    "])"
   ]
  },
  {
   "cell_type": "code",
   "execution_count": 5,
   "metadata": {},
   "outputs": [],
   "source": [
    "model.compile(optimizer=tf.train.AdamOptimizer(), \n",
    "              loss='binary_crossentropy',\n",
    "              metrics=['accuracy'])"
   ]
  },
  {
   "cell_type": "code",
   "execution_count": 6,
   "metadata": {},
   "outputs": [
    {
     "name": "stdout",
     "output_type": "stream",
     "text": [
      "Epoch 1/10\n",
      " 64/920 [=>............................] - ETA: 2:05 - loss: 1.4169 - acc: 0.6797WARNING:tensorflow:Method on_batch_end() is slow compared to the batch update (0.470346). Check your callbacks.\n",
      "920/920 [==============================] - 25s 27ms/step - loss: 1.9556 - acc: 0.8625\n",
      "Epoch 2/10\n",
      "920/920 [==============================] - 12s 13ms/step - loss: 1.9797 - acc: 0.8772\n",
      "Epoch 3/10\n",
      "920/920 [==============================] - 8s 9ms/step - loss: 1.9797 - acc: 0.8772\n",
      "Epoch 4/10\n",
      "920/920 [==============================] - 8s 9ms/step - loss: 1.9797 - acc: 0.8772\n",
      "Epoch 5/10\n",
      "920/920 [==============================] - 8s 9ms/step - loss: 1.9797 - acc: 0.8772\n",
      "Epoch 6/10\n",
      "920/920 [==============================] - 8s 9ms/step - loss: 1.9797 - acc: 0.8772\n",
      "Epoch 7/10\n",
      "920/920 [==============================] - 8s 9ms/step - loss: 1.9797 - acc: 0.8772\n",
      "Epoch 8/10\n",
      "920/920 [==============================] - 9s 10ms/step - loss: 1.9797 - acc: 0.8772\n",
      "Epoch 9/10\n",
      "920/920 [==============================] - 8s 9ms/step - loss: 1.9797 - acc: 0.8772\n",
      "Epoch 10/10\n",
      "920/920 [==============================] - 9s 10ms/step - loss: 1.9797 - acc: 0.8772\n"
     ]
    },
    {
     "data": {
      "text/plain": [
       "<tensorflow.python.keras.callbacks.History at 0x165327b1e80>"
      ]
     },
     "execution_count": 6,
     "metadata": {},
     "output_type": "execute_result"
    }
   ],
   "source": [
    "model.fit(x_train, t_train, epochs=10)"
   ]
  },
  {
   "cell_type": "code",
   "execution_count": 7,
   "metadata": {},
   "outputs": [
    {
     "name": "stdout",
     "output_type": "stream",
     "text": [
      "475/475 [==============================] - 5s 10ms/step\n",
      "Test accuracy: 0.9242105263157895\n"
     ]
    }
   ],
   "source": [
    "test_loss, test_acc = model.evaluate(x_test, t_test)\n",
    "print('Test accuracy:', test_acc)"
   ]
  },
  {
   "cell_type": "code",
   "execution_count": null,
   "metadata": {},
   "outputs": [],
   "source": []
  }
 ],
 "metadata": {
  "kernelspec": {
   "display_name": "Python 3",
   "language": "python",
   "name": "python3"
  },
  "language_info": {
   "codemirror_mode": {
    "name": "ipython",
    "version": 3
   },
   "file_extension": ".py",
   "mimetype": "text/x-python",
   "name": "python",
   "nbconvert_exporter": "python",
   "pygments_lexer": "ipython3",
   "version": "3.6.7"
  },
  "varInspector": {
   "cols": {
    "lenName": 16,
    "lenType": 16,
    "lenVar": 40
   },
   "kernels_config": {
    "python": {
     "delete_cmd_postfix": "",
     "delete_cmd_prefix": "del ",
     "library": "var_list.py",
     "varRefreshCmd": "print(var_dic_list())"
    },
    "r": {
     "delete_cmd_postfix": ") ",
     "delete_cmd_prefix": "rm(",
     "library": "var_list.r",
     "varRefreshCmd": "cat(var_dic_list()) "
    }
   },
   "types_to_exclude": [
    "module",
    "function",
    "builtin_function_or_method",
    "instance",
    "_Feature"
   ],
   "window_display": false
  }
 },
 "nbformat": 4,
 "nbformat_minor": 2
}
