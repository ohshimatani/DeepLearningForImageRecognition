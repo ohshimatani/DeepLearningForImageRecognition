{
 "cells": [
  {
   "cell_type": "code",
   "execution_count": 1,
   "metadata": {},
   "outputs": [],
   "source": [
    "from PIL import Image\n",
    "import sys\n",
    "import os\n",
    "import re\n",
    "import glob"
   ]
  },
  {
   "cell_type": "code",
   "execution_count": 4,
   "metadata": {},
   "outputs": [],
   "source": [
    "def convertPNG2JPG(file_path):\n",
    "    count = 1\n",
    "    for path in file_path:\n",
    "        files = glob.glob(path + './*.png')\n",
    "        #print(1)\n",
    "        for file in files:\n",
    "            input_im = Image.open(file, 'r')\n",
    "            rgb_im = input_im.convert('RGB')\n",
    "            rgb_im.save(file + 'R' + '.jpg', 'JPEG')\n",
    "            os.remove(file)\n",
    "            count = count + 1\n",
    "            print(\"transcation finished\" + str(count))"
   ]
  },
  {
   "cell_type": "code",
   "execution_count": 3,
   "metadata": {},
   "outputs": [],
   "source": [
    "if __name__ == '__main__':\n",
    "    input_path = os.getcwd() + '\\\\'\n",
    "    output_path = os.getcwd() + '\\\\' \n",
    "    files = os.listdir(os.getcwd() + '\\\\')\n",
    "    train_path_0 = os.getcwd() + '\\\\' + 'train_images' + '\\\\' + 'not_kumamon'\n",
    "    train_path_1 = os.getcwd() + '\\\\' + 'train_images' + '\\\\' + 'kumamon'\n",
    "    test_path_0 = os.getcwd() + '\\\\' + 'test_images' + '\\\\' + 'not_kumamon'\n",
    "    test_path_1 = os.getcwd() + '\\\\' + 'test_images' + '\\\\' + 'kumamon'\n",
    "    \n",
    "    file_path = [train_path_0, train_path_1, test_path_0, test_path_1]\n",
    "    \n",
    "    convertPNG2JPG(file_path)"
   ]
  }
 ],
 "metadata": {
  "kernelspec": {
   "display_name": "Python 3",
   "language": "python",
   "name": "python3"
  },
  "language_info": {
   "codemirror_mode": {
    "name": "ipython",
    "version": 3
   },
   "file_extension": ".py",
   "mimetype": "text/x-python",
   "name": "python",
   "nbconvert_exporter": "python",
   "pygments_lexer": "ipython3",
   "version": "3.6.7"
  },
  "varInspector": {
   "cols": {
    "lenName": 16,
    "lenType": 16,
    "lenVar": 40
   },
   "kernels_config": {
    "python": {
     "delete_cmd_postfix": "",
     "delete_cmd_prefix": "del ",
     "library": "var_list.py",
     "varRefreshCmd": "print(var_dic_list())"
    },
    "r": {
     "delete_cmd_postfix": ") ",
     "delete_cmd_prefix": "rm(",
     "library": "var_list.r",
     "varRefreshCmd": "cat(var_dic_list()) "
    }
   },
   "types_to_exclude": [
    "module",
    "function",
    "builtin_function_or_method",
    "instance",
    "_Feature"
   ],
   "window_display": false
  }
 },
 "nbformat": 4,
 "nbformat_minor": 2
}
