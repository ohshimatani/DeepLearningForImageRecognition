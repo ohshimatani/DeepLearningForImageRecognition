{
 "cells": [
  {
   "cell_type": "markdown",
   "metadata": {},
   "source": [
    "### scikit-learnのmap"
   ]
  },
  {
   "cell_type": "markdown",
   "metadata": {},
   "source": [
    "![scikit-learn map](https://scikit-learn.org/stable/_static/ml_map.png)"
   ]
  },
  {
   "cell_type": "code",
   "execution_count": 1,
   "metadata": {},
   "outputs": [],
   "source": [
    "import numpy as np\n",
    "from sklearn.linear_model import SGDClassifier\n",
    "from load_data import *"
   ]
  },
  {
   "cell_type": "markdown",
   "metadata": {},
   "source": [
    "- データ： (x_train, t_train), (x_test, t_test)"
   ]
  },
  {
   "cell_type": "code",
   "execution_count": 2,
   "metadata": {},
   "outputs": [],
   "source": [
    "train_suffle_index = np.random.permutation(len(x_train))\n",
    "test_suffle_index = np.random.permutation(len(x_test))\n",
    "(x_train, t_train), (x_test, t_test) = (x_train[train_suffle_index], t_train[train_suffle_index]), (x_test[test_suffle_index], t_test[test_suffle_index])"
   ]
  },
  {
   "cell_type": "code",
   "execution_count": 3,
   "metadata": {},
   "outputs": [
    {
     "name": "stdout",
     "output_type": "stream",
     "text": [
      "(920, 196608) (920,) (475, 196608) (475,)\n"
     ]
    }
   ],
   "source": [
    "if __name__ == '__main__':\n",
    "    print(np.shape(x_train), np.shape(t_train), np.shape(x_test), np.shape(t_test))"
   ]
  },
  {
   "cell_type": "markdown",
   "metadata": {},
   "source": [
    "### SGDClassifierで検証"
   ]
  },
  {
   "cell_type": "code",
   "execution_count": 4,
   "metadata": {},
   "outputs": [
    {
     "name": "stderr",
     "output_type": "stream",
     "text": [
      "C:\\Users\\oshimatani ryo\\Anaconda3\\lib\\site-packages\\sklearn\\linear_model\\stochastic_gradient.py:166: FutureWarning: max_iter and tol parameters have been added in SGDClassifier in 0.19. If both are left unset, they default to max_iter=5 and tol=None. If tol is not None, max_iter defaults to max_iter=1000. From 0.21, default max_iter will be 1000, and default tol will be 1e-3.\n",
      "  FutureWarning)\n"
     ]
    },
    {
     "data": {
      "text/plain": [
       "SGDClassifier(alpha=0.0001, average=False, class_weight=None,\n",
       "       early_stopping=False, epsilon=0.1, eta0=0.0, fit_intercept=True,\n",
       "       l1_ratio=0.15, learning_rate='optimal', loss='hinge', max_iter=None,\n",
       "       n_iter=None, n_iter_no_change=5, n_jobs=None, penalty='l2',\n",
       "       power_t=0.5, random_state=None, shuffle=True, tol=None,\n",
       "       validation_fraction=0.1, verbose=0, warm_start=False)"
      ]
     },
     "execution_count": 4,
     "metadata": {},
     "output_type": "execute_result"
    }
   ],
   "source": [
    "sgd_clf = SGDClassifier()\n",
    "sgd_clf.fit(x_train, t_train)"
   ]
  },
  {
   "cell_type": "code",
   "execution_count": 27,
   "metadata": {},
   "outputs": [],
   "source": [
    "pred = sgd_clf.predict(x_test);"
   ]
  },
  {
   "cell_type": "code",
   "execution_count": 28,
   "metadata": {},
   "outputs": [
    {
     "name": "stdout",
     "output_type": "stream",
     "text": [
      "[[436   3]\n",
      " [ 21  15]]\n"
     ]
    }
   ],
   "source": [
    "from sklearn import metrics\n",
    "from sklearn.metrics import confusion_matrix\n",
    "\n",
    "print(metrics.confusion_matrix(t_test, pred_2))"
   ]
  },
  {
   "cell_type": "code",
   "execution_count": 6,
   "metadata": {},
   "outputs": [
    {
     "name": "stdout",
     "output_type": "stream",
     "text": [
      "Accuracy:  0.9494736842105264\n",
      "Precision(micro):  0.9494736842105264\n",
      "Recall(micro):  0.9494736842105264\n",
      "F-score(micro):  0.9494736842105264\n",
      "AUC:  0.7049164768413061\n"
     ]
    }
   ],
   "source": [
    "from sklearn.metrics import confusion_matrix\n",
    "from sklearn import metrics\n",
    "\n",
    "expected = t_test\n",
    "predicted = sgd_clf.predict(x_test)\n",
    "sgd_auc = metrics.roc_auc_score(expected, predicted)\n",
    "\n",
    "confusion_matrix(t_test, pred)\n",
    "print(\"Accuracy: \", metrics.accuracy_score(expected, predicted))\n",
    "print(\"Precision(micro): \", metrics.precision_score(expected, predicted, average='micro'))\n",
    "print(\"Recall(micro): \", metrics.recall_score(expected, predicted, average='micro'))\n",
    "print(\"F-score(micro): \", metrics.f1_score(expected, predicted, average='micro'))\n",
    "print(\"AUC: \", metrics.roc_auc_score(expected, predicted))"
   ]
  },
  {
   "cell_type": "markdown",
   "metadata": {},
   "source": [
    "#### metrics\n",
    "-----\n",
    "- Accuracy(正解率) : 全体の内の正解数\n",
    "- Precision(適合率) : ラベルをX(0 or 1)と予想したもののうち、正解だったものの割合\n",
    "- Recall(再現率) : 正解ラベルがX(0 or 1)のもののうち、実際にXと予想されたものの割合\n",
    "- F1-score : PrecisionとRecallの調和平均 \n",
    "    * $F_1 = \\frac{2}{\\frac{1}{precision}+\\frac{1}{recall}} = 2 \\times \\frac{precision\\times recall}{precision+recall} = \\frac{TP}{TP+\\frac{FN+FP}{2}}$\n",
    "\n",
    "\n",
    "- precisionとrecallはトレードオフの関係"
   ]
  },
  {
   "cell_type": "code",
   "execution_count": 7,
   "metadata": {},
   "outputs": [
    {
     "name": "stdout",
     "output_type": "stream",
     "text": [
      "testdata_size :  475\n",
      "acc_size :  36.0\n",
      "              precision    recall  f1-score   support\n",
      "\n",
      "         0.0       0.95      0.99      0.97       439\n",
      "         1.0       0.83      0.42      0.56        36\n",
      "\n",
      "   micro avg       0.95      0.95      0.95       475\n",
      "   macro avg       0.89      0.70      0.76       475\n",
      "weighted avg       0.94      0.95      0.94       475\n",
      "\n"
     ]
    }
   ],
   "source": [
    "print('testdata_size : ', len(x_test))\n",
    "print('acc_size : ', np.sum(t_test))\n",
    "cr_sgd = metrics.classification_report(expected, predicted)\n",
    "print(cr_sgd)"
   ]
  },
  {
   "cell_type": "markdown",
   "metadata": {},
   "source": [
    "-----\n",
    "- fpr(false positive ratio:偽陽性率) : 正解ラベル'0'であるものを間違って'1'と予測した割合\n",
    "- tpr(true positive rate:真陽性率) : 正解ラベル'1'であるものを正しく'1'と予測した割合\n",
    "---\n",
    "- ROC曲線(Receiver Operating Characteristic) : 偽陽性率に対する真陽性率"
   ]
  },
  {
   "cell_type": "code",
   "execution_count": 8,
   "metadata": {},
   "outputs": [
    {
     "data": {
      "image/png": "[encoded data removed]",
      "text/plain": [
       "<Figure size 432x288 with 1 Axes>"
      ]
     },
     "metadata": {
      "needs_background": "light"
     },
     "output_type": "display_data"
    }
   ],
   "source": [
    "from sklearn.metrics import roc_curve\n",
    "\n",
    "score = sgd_clf.decision_function(x_test)\n",
    "\n",
    "fpr, tpr, threshold = metrics.roc_curve(t_test, score)\n",
    "plt.figure()\n",
    "plt.plot(fpr, tpr, color='green')\n",
    "plt.plot([0, 1], [0, 1], linestyle='--', color='navy')\n",
    "plt.xlabel('False Positive Rate')\n",
    "plt.ylabel('True Positive Rate')\n",
    "plt.title('Receiver operating characteristic example')\n",
    "plt.show()"
   ]
  },
  {
   "cell_type": "markdown",
   "metadata": {},
   "source": [
    "### Random Forestで再検証"
   ]
  },
  {
   "cell_type": "code",
   "execution_count": 9,
   "metadata": {},
   "outputs": [
    {
     "name": "stderr",
     "output_type": "stream",
     "text": [
      "C:\\Users\\oshimatani ryo\\Anaconda3\\lib\\site-packages\\sklearn\\ensemble\\forest.py:246: FutureWarning: The default value of n_estimators will change from 10 in version 0.20 to 100 in 0.22.\n",
      "  \"10 in version 0.20 to 100 in 0.22.\", FutureWarning)\n"
     ]
    },
    {
     "data": {
      "text/plain": [
       "RandomForestClassifier(bootstrap=True, class_weight=None, criterion='gini',\n",
       "            max_depth=None, max_features='auto', max_leaf_nodes=None,\n",
       "            min_impurity_decrease=0.0, min_impurity_split=None,\n",
       "            min_samples_leaf=1, min_samples_split=2,\n",
       "            min_weight_fraction_leaf=0.0, n_estimators=10, n_jobs=None,\n",
       "            oob_score=False, random_state=None, verbose=0,\n",
       "            warm_start=False)"
      ]
     },
     "execution_count": 9,
     "metadata": {},
     "output_type": "execute_result"
    }
   ],
   "source": [
    "from sklearn.ensemble import RandomForestClassifier\n",
    "\n",
    "rf_clf = RandomForestClassifier()\n",
    "rf_clf.fit(x_train, t_train)"
   ]
  },
  {
   "cell_type": "code",
   "execution_count": 10,
   "metadata": {},
   "outputs": [],
   "source": [
    "pred_2 = rf_clf.predict(x_test)"
   ]
  },
  {
   "cell_type": "code",
   "execution_count": 11,
   "metadata": {},
   "outputs": [
    {
     "name": "stdout",
     "output_type": "stream",
     "text": [
      "[[436   3]\n",
      " [ 21  15]]\n"
     ]
    }
   ],
   "source": [
    "from sklearn import metrics\n",
    "from sklearn.metrics import confusion_matrix\n",
    "\n",
    "print(metrics.confusion_matrix(t_test, pred_2))"
   ]
  },
  {
   "cell_type": "code",
   "execution_count": 12,
   "metadata": {},
   "outputs": [
    {
     "name": "stdout",
     "output_type": "stream",
     "text": [
      "Accuracy:  0.9494736842105264\n",
      "Precision(micro):  0.9494736842105264\n",
      "Recall(micro):  0.9494736842105264\n",
      "F-score(micro):  0.9494736842105264\n",
      "AUC:  0.7049164768413061\n"
     ]
    }
   ],
   "source": [
    "expected = t_test\n",
    "predicted = pred_2\n",
    "rf_auc = metrics.roc_auc_score(expected, predicted)\n",
    "\n",
    "confusion_matrix(t_test, pred_2)\n",
    "print(\"Accuracy: \", metrics.accuracy_score(expected, predicted))\n",
    "print(\"Precision(micro): \", metrics.precision_score(expected, predicted, average='micro'))\n",
    "print(\"Recall(micro): \", metrics.recall_score(expected, predicted, average='micro'))\n",
    "print(\"F-score(micro): \", metrics.f1_score(expected, predicted, average='micro'))\n",
    "print(\"AUC: \", metrics.roc_auc_score(expected, predicted))"
   ]
  },
  {
   "cell_type": "code",
   "execution_count": 13,
   "metadata": {},
   "outputs": [
    {
     "name": "stdout",
     "output_type": "stream",
     "text": [
      "testdata_size :  475\n",
      "acc_size :  36.0\n",
      "              precision    recall  f1-score   support\n",
      "\n",
      "         0.0       0.95      0.99      0.97       439\n",
      "         1.0       0.83      0.42      0.56        36\n",
      "\n",
      "   micro avg       0.95      0.95      0.95       475\n",
      "   macro avg       0.89      0.70      0.76       475\n",
      "weighted avg       0.94      0.95      0.94       475\n",
      "\n"
     ]
    }
   ],
   "source": [
    "print('testdata_size : ', len(x_test))\n",
    "print('acc_size : ', np.sum(t_test))\n",
    "\n",
    "cr_rf = metrics.classification_report(expected, predicted)\n",
    "print(cr_rf)"
   ]
  },
  {
   "cell_type": "code",
   "execution_count": 14,
   "metadata": {},
   "outputs": [
    {
     "data": {
      "image/png": "[encoded data removed]",
      "text/plain": [
       "<Figure size 432x288 with 1 Axes>"
      ]
     },
     "metadata": {
      "needs_background": "light"
     },
     "output_type": "display_data"
    }
   ],
   "source": [
    "from sklearn.ensemble import RandomForestClassifier\n",
    "from sklearn.metrics import roc_curve\n",
    "from sklearn.model_selection import cross_val_predict\n",
    "\n",
    "score_rf = cross_val_predict(rf_clf, x_train, t_train, cv=3, \n",
    "                            method=\"predict_proba\")\n",
    "\n",
    "fpr_rf, tpr_rf, threshold_rf = metrics.roc_curve(t_train, score_rf[:, 1])\n",
    "plt.figure()\n",
    "plt.plot(fpr_rf, tpr_rf, color='red')\n",
    "plt.plot([0, 1], [0, 1], linestyle='--', color='navy')\n",
    "plt.xlabel('False Positive Rate')\n",
    "plt.ylabel('True Positive Rate')\n",
    "plt.title('Receiver operating characteristic example')\n",
    "plt.show()"
   ]
  },
  {
   "cell_type": "code",
   "execution_count": null,
   "metadata": {},
   "outputs": [],
   "source": []
  },
  {
   "cell_type": "code",
   "execution_count": null,
   "metadata": {},
   "outputs": [],
   "source": []
  },
  {
   "cell_type": "code",
   "execution_count": null,
   "metadata": {},
   "outputs": [],
   "source": []
  },
  {
   "cell_type": "markdown",
   "metadata": {},
   "source": [
    "### SGDClassiffierとRandomForestの比較"
   ]
  },
  {
   "cell_type": "markdown",
   "metadata": {},
   "source": [
    "#### Confusion Matrix"
   ]
  },
  {
   "cell_type": "code",
   "execution_count": 15,
   "metadata": {},
   "outputs": [
    {
     "name": "stdout",
     "output_type": "stream",
     "text": [
      "[[436   3]\n",
      " [ 21  15]]\n",
      "[[436   3]\n",
      " [ 21  15]]\n"
     ]
    }
   ],
   "source": [
    "from sklearn import metrics\n",
    "from sklearn.metrics import confusion_matrix\n",
    "\n",
    "print(metrics.confusion_matrix(t_test, pred))\n",
    "print(metrics.confusion_matrix(t_test, pred_2))"
   ]
  },
  {
   "cell_type": "markdown",
   "metadata": {},
   "source": [
    "#### Classification Report"
   ]
  },
  {
   "cell_type": "code",
   "execution_count": 16,
   "metadata": {},
   "outputs": [
    {
     "name": "stdout",
     "output_type": "stream",
     "text": [
      "SGDClassifier:\n",
      "               precision    recall  f1-score   support\n",
      "\n",
      "         0.0       0.95      0.99      0.97       439\n",
      "         1.0       0.83      0.42      0.56        36\n",
      "\n",
      "   micro avg       0.95      0.95      0.95       475\n",
      "   macro avg       0.89      0.70      0.76       475\n",
      "weighted avg       0.94      0.95      0.94       475\n",
      "\n",
      "\n",
      "\n",
      "RandomForest:\n",
      "               precision    recall  f1-score   support\n",
      "\n",
      "         0.0       0.95      0.99      0.97       439\n",
      "         1.0       0.83      0.42      0.56        36\n",
      "\n",
      "   micro avg       0.95      0.95      0.95       475\n",
      "   macro avg       0.89      0.70      0.76       475\n",
      "weighted avg       0.94      0.95      0.94       475\n",
      "\n"
     ]
    }
   ],
   "source": [
    "print('SGDClassifier:\\n', cr_sgd)\n",
    "print('\\n')\n",
    "print('RandomForest:\\n', cr_rf)"
   ]
  },
  {
   "cell_type": "markdown",
   "metadata": {},
   "source": [
    "#### ROC曲線とAUC"
   ]
  },
  {
   "cell_type": "code",
   "execution_count": 17,
   "metadata": {
    "scrolled": false
   },
   "outputs": [
    {
     "data": {
      "image/png": "[encoded data removed]",
      "text/plain": [
       "<Figure size 432x288 with 1 Axes>"
      ]
     },
     "metadata": {
      "needs_background": "light"
     },
     "output_type": "display_data"
    }
   ],
   "source": [
    "plt.plot(fpr, tpr, color='green', label='SGD Classifier')\n",
    "plt.plot(fpr_rf, tpr_rf, color='red', label='Random Forest')\n",
    "plt.plot([0, 1], [0, 1], linestyle='--', color='navy')\n",
    "plt.xlabel('False Positive Rate')\n",
    "plt.ylabel('True Positive Rate')\n",
    "plt.legend()\n",
    "plt.title('Receiver operating characteristic example')\n",
    "plt.show()"
   ]
  },
  {
   "cell_type": "code",
   "execution_count": 18,
   "metadata": {},
   "outputs": [
    {
     "name": "stdout",
     "output_type": "stream",
     "text": [
      "AUC(SGD Classification) :  0.7049164768413061\n",
      "     AUC(Random Forest) :  0.7049164768413061\n"
     ]
    }
   ],
   "source": [
    "print('AUC(SGD Classification) : ', sgd_auc)\n",
    "print('     AUC(Random Forest) : ', rf_auc)"
   ]
  },
  {
   "cell_type": "code",
   "execution_count": null,
   "metadata": {},
   "outputs": [],
   "source": []
  },
  {
   "cell_type": "markdown",
   "metadata": {},
   "source": [
    "### TensorFlowで検証"
   ]
  },
  {
   "cell_type": "code",
   "execution_count": 19,
   "metadata": {},
   "outputs": [],
   "source": [
    "import tensorflow as tf\n",
    "from tensorflow import keras\n",
    "\n",
    "model = keras.Sequential([\n",
    "    # keras.layers.Flatten(input_shape=(256, 256, 3)),\n",
    "    keras.layers.Dense(128, activation=tf.nn.relu),\n",
    "    keras.layers.Dense(128, activation=tf.nn.relu),\n",
    "    keras.layers.Dense(2, activation=tf.nn.sigmoid)\n",
    "])\n"
   ]
  },
  {
   "cell_type": "code",
   "execution_count": 20,
   "metadata": {},
   "outputs": [],
   "source": [
    "model.compile(optimizer=tf.train.AdamOptimizer(), \n",
    "              loss='binary_crossentropy',\n",
    "              metrics=['accuracy'])"
   ]
  },
  {
   "cell_type": "code",
   "execution_count": 21,
   "metadata": {},
   "outputs": [
    {
     "name": "stdout",
     "output_type": "stream",
     "text": [
      "Epoch 1/3\n",
      "920/920 [==============================] - 9s 10ms/step - loss: 1.9537 - acc: 0.8533\n",
      "Epoch 2/3\n",
      "920/920 [==============================] - 7s 8ms/step - loss: 1.9797 - acc: 0.8772\n",
      "Epoch 3/3\n",
      "920/920 [==============================] - 8s 8ms/step - loss: 1.9797 - acc: 0.8772\n"
     ]
    },
    {
     "data": {
      "text/plain": [
       "<tensorflow.python.keras.callbacks.History at 0x1dc2bf47b38>"
      ]
     },
     "execution_count": 21,
     "metadata": {},
     "output_type": "execute_result"
    }
   ],
   "source": [
    "model.fit(x_train, t_train, epochs=3)"
   ]
  },
  {
   "cell_type": "code",
   "execution_count": 22,
   "metadata": {},
   "outputs": [
    {
     "name": "stdout",
     "output_type": "stream",
     "text": [
      "475/475 [==============================] - 1s 3ms/step\n",
      "Test accuracy: 0.9242105266922399\n"
     ]
    }
   ],
   "source": [
    "test_loss, test_acc = model.evaluate(x_test, t_test)\n",
    "print('Test accuracy:', test_acc)"
   ]
  },
  {
   "cell_type": "code",
   "execution_count": 23,
   "metadata": {},
   "outputs": [
    {
     "name": "stdout",
     "output_type": "stream",
     "text": [
      "1.2215819832760535\n"
     ]
    }
   ],
   "source": [
    "print(test_loss)"
   ]
  },
  {
   "cell_type": "markdown",
   "metadata": {},
   "source": [
    "----\n",
    "(tensorflowでのmetricsの出し方がよく分からない)"
   ]
  },
  {
   "cell_type": "code",
   "execution_count": 24,
   "metadata": {},
   "outputs": [
    {
     "name": "stdout",
     "output_type": "stream",
     "text": [
      "(475,)\n"
     ]
    }
   ],
   "source": [
    "pred_3 = model.predict(x_test)\n",
    "pred_3 = np.sum(pred_3, axis=1)\n",
    "print(np.shape(pred_3))"
   ]
  },
  {
   "cell_type": "code",
   "execution_count": 25,
   "metadata": {},
   "outputs": [],
   "source": [
    "recall, update_op = tf.metrics.recall(t_test, pred_3)\n",
    "precision, update_op = tf.metrics.precision(t_test, pred_3)"
   ]
  },
  {
   "cell_type": "code",
   "execution_count": 26,
   "metadata": {},
   "outputs": [
    {
     "name": "stdout",
     "output_type": "stream",
     "text": [
      "Tensor(\"recall/value:0\", shape=(), dtype=float32) Tensor(\"precision/value:0\", shape=(), dtype=float32)\n"
     ]
    }
   ],
   "source": [
    "print(recall, precision)"
   ]
  },
  {
   "cell_type": "markdown",
   "metadata": {},
   "source": [
    "---"
   ]
  },
  {
   "cell_type": "code",
   "execution_count": null,
   "metadata": {},
   "outputs": [],
   "source": []
  }
 ],
 "metadata": {
  "kernelspec": {
   "display_name": "Python 3",
   "language": "python",
   "name": "python3"
  },
  "language_info": {
   "codemirror_mode": {
    "name": "ipython",
    "version": 3
   },
   "file_extension": ".py",
   "mimetype": "text/x-python",
   "name": "python",
   "nbconvert_exporter": "python",
   "pygments_lexer": "ipython3",
   "version": "3.6.7"
  },
  "varInspector": {
   "cols": {
    "lenName": 16,
    "lenType": 16,
    "lenVar": 40
   },
   "kernels_config": {
    "python": {
     "delete_cmd_postfix": "",
     "delete_cmd_prefix": "del ",
     "library": "var_list.py",
     "varRefreshCmd": "print(var_dic_list())"
    },
    "r": {
     "delete_cmd_postfix": ") ",
     "delete_cmd_prefix": "rm(",
     "library": "var_list.r",
     "varRefreshCmd": "cat(var_dic_list()) "
    }
   },
   "types_to_exclude": [
    "module",
    "function",
    "builtin_function_or_method",
    "instance",
    "_Feature"
   ],
   "window_display": false
  }
 },
 "nbformat": 4,
 "nbformat_minor": 2
}
